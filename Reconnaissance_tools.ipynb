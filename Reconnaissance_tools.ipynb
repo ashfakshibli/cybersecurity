{
 "cells": [
  {
   "attachments": {},
   "cell_type": "markdown",
   "metadata": {},
   "source": [
    "#### Reconnaissance Tools\n",
    "All tools used for Reconnaissance is listed here https://osintframework.com/\n",
    "- whois\n",
    "- whatweb\n",
    "- wafw00f\n",
    "- nslookup\n",
    "    - look up mailservers\n",
    "    -  set type = MX / NS \n",
    "- theHarvester - -d rutgers.edu -b bing\n",
    "    - secondary domain search\n",
    "- recon-ng\n",
    "    - setup a workspace\n",
    "    - marketplace\n",
    "    - load modules\n",
    "    - set domain to get information\n",
    "    - get all the sub domain and ipaddress\n",
    "    - shodan\n",
    "- MALTEGO\n",
    "    - academic liscense\n",
    "    - transform - module\n",
    "    - tineye - social media footprints/ online footprints\n",
    "    - Web lookup\n",
    "    - person lookup\n",
    "- netdiscover\n",
    "- nmap\n",
    "    - king of scanners\n",
    "    - fragmentation\n",
    "    - d decoys\n",
    "    - tcp -sS scan\n",
    "    - mtu\n",
    "    - IDS\n",
    "    - attacker use slow scan -T0\n",
    "    - -sV -script=vulscan/vulscan.nse  (vulnerability scan)\n",
    "- /bin/systemcli start nessuss\n",
    "- Greenbone OpenVAS\n",
    "- Cyber Security Ranger\n",
    "\n",
    "\n",
    "\n"
   ]
  }
 ],
 "metadata": {
  "language_info": {
   "name": "python"
  },
  "orig_nbformat": 4
 },
 "nbformat": 4,
 "nbformat_minor": 2
}
